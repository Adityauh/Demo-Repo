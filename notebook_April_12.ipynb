{
  "nbformat": 4,
  "nbformat_minor": 0,
  "metadata": {
    "colab": {
      "name": "Untitled1.ipynb",
      "provenance": [],
      "collapsed_sections": [],
      "authorship_tag": "ABX9TyNjW6ZNXcNt/tpnRgmIzDpa",
      "include_colab_link": true
    },
    "kernelspec": {
      "name": "python3",
      "display_name": "Python 3"
    },
    "language_info": {
      "name": "python"
    }
  },
  "cells": [
    {
      "cell_type": "markdown",
      "metadata": {
        "id": "view-in-github",
        "colab_type": "text"
      },
      "source": [
        "<a href=\"https://colab.research.google.com/github/Adityauh/Demo-Repo/blob/main/notebook_April_12.ipynb\" target=\"_parent\"><img src=\"https://colab.research.google.com/assets/colab-badge.svg\" alt=\"Open In Colab\"/></a>"
      ]
    },
    {
      "cell_type": "code",
      "metadata": {
        "colab": {
          "base_uri": "https://localhost:8080/"
        },
        "id": "nToR7_AmK7Fq",
        "outputId": "e5ddba0a-d1e9-4597-ffd7-cca4e1f52977"
      },
      "source": [
        "a =[1,\"a\",\"strings\",1+2]\n",
        "print (a)\n",
        "a.append (6)\n",
        "print(a)\n",
        "a.pop()\n",
        "print (a)\n"
      ],
      "execution_count": null,
      "outputs": [
        {
          "output_type": "stream",
          "text": [
            "[1, 'a', 'strings', 3]\n",
            "[1, 'a', 'strings', 3, 6]\n",
            "[1, 'a', 'strings', 3]\n"
          ],
          "name": "stdout"
        }
      ]
    },
    {
      "cell_type": "code",
      "metadata": {
        "colab": {
          "base_uri": "https://localhost:8080/"
        },
        "id": "z00fU4h5Mi-a",
        "outputId": "ba5074e7-3b03-4337-d661-e1f8be771677"
      },
      "source": [
        "i =1 \n",
        "while (i< 10):\n",
        "  print(i)\n",
        "  i +=1"
      ],
      "execution_count": null,
      "outputs": [
        {
          "output_type": "stream",
          "text": [
            "1\n",
            "2\n",
            "3\n",
            "4\n",
            "5\n",
            "6\n",
            "7\n",
            "8\n",
            "9\n"
          ],
          "name": "stdout"
        }
      ]
    },
    {
      "cell_type": "code",
      "metadata": {
        "colab": {
          "base_uri": "https://localhost:8080/"
        },
        "id": "jlK4kYWYMJpn",
        "outputId": "6af3a745-4306-4bb2-a4c5-5fd25fb8df81"
      },
      "source": [
        "tup = (1,\"a\",\"string, 1+2\")\n",
        "print(tup)\n",
        "print(tup[1])"
      ],
      "execution_count": null,
      "outputs": [
        {
          "output_type": "stream",
          "text": [
            "(1, 'a', 'string, 1+2')\n",
            "a\n"
          ],
          "name": "stdout"
        }
      ]
    },
    {
      "cell_type": "code",
      "metadata": {
        "colab": {
          "base_uri": "https://localhost:8080/"
        },
        "id": "MeZVhO2UM8FW",
        "outputId": "bc963a69-beb0-462f-8a3e-8e76f6cf95c2"
      },
      "source": [
        "s = \" Hello World\"\n",
        "for i in s:\n",
        "  print(i)\n",
        "  "
      ],
      "execution_count": null,
      "outputs": [
        {
          "output_type": "stream",
          "text": [
            " \n",
            "H\n",
            "e\n",
            "l\n",
            "l\n",
            "o\n",
            " \n",
            "W\n",
            "o\n",
            "r\n",
            "l\n",
            "d\n"
          ],
          "name": "stdout"
        }
      ]
    },
    {
      "cell_type": "code",
      "metadata": {
        "colab": {
          "base_uri": "https://localhost:8080/"
        },
        "id": "N74WyF_qNI82",
        "outputId": "e6842524-21ee-458c-d470-a2f3bee5c1db"
      },
      "source": [
        "L =[1,2,3,4,5,6,7,8]\n",
        "for i in L:\n",
        "  print (i)"
      ],
      "execution_count": null,
      "outputs": [
        {
          "output_type": "stream",
          "text": [
            "1\n",
            "2\n",
            "3\n",
            "4\n",
            "5\n",
            "6\n",
            "7\n",
            "8\n"
          ],
          "name": "stdout"
        }
      ]
    },
    {
      "cell_type": "code",
      "metadata": {
        "colab": {
          "base_uri": "https://localhost:8080/"
        },
        "id": "9Pd9mGo6NTaP",
        "outputId": "d61c0a07-6799-4d0b-e92a-267157346c14"
      },
      "source": [
        "for i in range(0,10):\n",
        "  print (i)"
      ],
      "execution_count": null,
      "outputs": [
        {
          "output_type": "stream",
          "text": [
            "0\n",
            "1\n",
            "2\n",
            "3\n",
            "4\n",
            "5\n",
            "6\n",
            "7\n",
            "8\n",
            "9\n"
          ],
          "name": "stdout"
        }
      ]
    },
    {
      "cell_type": "code",
      "metadata": {
        "colab": {
          "base_uri": "https://localhost:8080/"
        },
        "id": "NT9zO74ENzOC",
        "outputId": "450116b6-2f62-4f96-baf2-39712d63c438"
      },
      "source": [
        "string1 = \"Hello to New World\"\n",
        "print(\"\\nUpadating String: \")\n",
        "print (string1)"
      ],
      "execution_count": null,
      "outputs": [
        {
          "output_type": "stream",
          "text": [
            "\n",
            "Upadating String: \n",
            "Hello to New World\n"
          ],
          "name": "stdout"
        }
      ]
    },
    {
      "cell_type": "code",
      "metadata": {
        "colab": {
          "base_uri": "https://localhost:8080/"
        },
        "id": "uboNxbzqSPpV",
        "outputId": "07857973-1b41-46d4-cf09-21abaa28d023"
      },
      "source": [
        "# Python Program for\n",
        "# Escape Sequencing \n",
        "# of String\n",
        "  \n",
        "# Initial String\n",
        "String1 = '''I'm a \"Geek\"'''\n",
        "print(\"Initial String with use of Triple Quotes: \")\n",
        "print(String1)\n",
        "  \n",
        "# Escaping Single Quote \n",
        "String1 = 'I\\'m a \"Geek\"'\n",
        "print(\"\\nEscaping Single Quote: \")\n",
        "print(String1)\n",
        "  \n",
        "# Escaping Doule Quotes\n",
        "String1 = \"I'm a \\\"Geek\\\"\"\n",
        "print(\"\\nEscaping Double Quotes: \")\n",
        "print(String1)\n",
        "  \n",
        "# Printing Paths with the \n",
        "# use of Escape Sequences\n",
        "String1 = \"C:\\\\Python\\\\Geeks\\\\\"\n",
        "print(\"\\nEscaping Backslashes: \")\n",
        "print(String1)"
      ],
      "execution_count": null,
      "outputs": [
        {
          "output_type": "stream",
          "text": [
            "Initial String with use of Triple Quotes: \n",
            "I'm a \"Geek\"\n",
            "\n",
            "Escaping Single Quote: \n",
            "I'm a \"Geek\"\n",
            "\n",
            "Escaping Double Quotes: \n",
            "I'm a \"Geek\"\n",
            "\n",
            "Escaping Backslashes: \n",
            "C:\\Python\\Geeks\\\n"
          ],
          "name": "stdout"
        }
      ]
    },
    {
      "cell_type": "code",
      "metadata": {
        "colab": {
          "base_uri": "https://localhost:8080/"
        },
        "id": "2sCfipzab-J4",
        "outputId": "6a754440-c398-4b8a-99e4-b3e9d545b356"
      },
      "source": [
        "from string import Template\n",
        "\n",
        "template = Template('$name is the $job of company')\n",
        "\n",
        "string = template.safe_substitute(name='Raju Kumar',\n",
        "\t\t\t\t\tjob='TCE')\n",
        "print(string)\n",
        "\n"
      ],
      "execution_count": null,
      "outputs": [
        {
          "output_type": "stream",
          "text": [
            "Raju Kumar is the TCE of company\n"
          ],
          "name": "stdout"
        }
      ]
    },
    {
      "cell_type": "code",
      "metadata": {
        "colab": {
          "base_uri": "https://localhost:8080/"
        },
        "id": "fYgluKOQcQsF",
        "outputId": "2ec5f618-843a-48d0-e9bb-d8dd00c853d6"
      },
      "source": [
        "print (\" \\\\ is back slash \")\n"
      ],
      "execution_count": null,
      "outputs": [
        {
          "output_type": "stream",
          "text": [
            " \\ is back slash \n"
          ],
          "name": "stdout"
        }
      ]
    },
    {
      "cell_type": "code",
      "metadata": {
        "id": "OZQhw_1q3hhm"
      },
      "source": [
        ""
      ],
      "execution_count": null,
      "outputs": []
    },
    {
      "cell_type": "code",
      "metadata": {
        "colab": {
          "base_uri": "https://localhost:8080/"
        },
        "id": "67ujIqfCf-Yi",
        "outputId": "aeaa39b1-77cc-4c1c-dd1a-7e8833e1cfb4"
      },
      "source": [
        "def say_Hi():\n",
        "  \"Hello! geeks!\"\n",
        "print(say_Hi.__doc__)"
      ],
      "execution_count": null,
      "outputs": [
        {
          "output_type": "stream",
          "text": [
            "Hello! geeks!\n"
          ],
          "name": "stdout"
        }
      ]
    },
    {
      "cell_type": "code",
      "metadata": {
        "colab": {
          "base_uri": "https://localhost:8080/"
        },
        "id": "Jy4V5WqwilJw",
        "outputId": "dbc2144e-19be-416d-eba9-a3fce5f59bd9"
      },
      "source": [
        "def square_value(num):\n",
        "  return num**2\n",
        "print(square_value(2))\n",
        "print(square_value(-8))"
      ],
      "execution_count": null,
      "outputs": [
        {
          "output_type": "stream",
          "text": [
            "4\n",
            "64\n"
          ],
          "name": "stdout"
        }
      ]
    },
    {
      "cell_type": "code",
      "metadata": {
        "colab": {
          "base_uri": "https://localhost:8080/"
        },
        "id": "0Juyixffjp_F",
        "outputId": "bdafae08-189e-43c4-9ded-95b5fd3d144a"
      },
      "source": [
        "def myFun(x):\n",
        "  x[4] = 20\n",
        "\n",
        "k = [10,20,30,40,50]\n",
        "myFun(k)\n",
        "print(k)\n"
      ],
      "execution_count": null,
      "outputs": [
        {
          "output_type": "stream",
          "text": [
            "[10, 20, 30, 40, 20]\n"
          ],
          "name": "stdout"
        }
      ]
    },
    {
      "cell_type": "code",
      "metadata": {
        "colab": {
          "base_uri": "https://localhost:8080/"
        },
        "id": "sY0XD_4ukW-Z",
        "outputId": "202c2b40-0468-4069-cbb5-5d3f952731fa"
      },
      "source": [
        "def myFun(x):\n",
        "  x = [20,30,40]\n",
        "k = [10,20,30,40]\n",
        "myFun(k)\n",
        "print(k)"
      ],
      "execution_count": null,
      "outputs": [
        {
          "output_type": "stream",
          "text": [
            "[10, 20, 30, 40]\n"
          ],
          "name": "stdout"
        }
      ]
    },
    {
      "cell_type": "code",
      "metadata": {
        "colab": {
          "base_uri": "https://localhost:8080/"
        },
        "id": "pwSBtebVl3bP",
        "outputId": "5d0e934d-a197-4c36-9df0-76673bdec465"
      },
      "source": [
        "def myFun(x, y=50):\n",
        "  print(\"x: \", x)\n",
        "  print(\"y: \", y)\n",
        "myFun(10)"
      ],
      "execution_count": null,
      "outputs": [
        {
          "output_type": "stream",
          "text": [
            "x:  10\n",
            "y:  50\n"
          ],
          "name": "stdout"
        }
      ]
    },
    {
      "cell_type": "code",
      "metadata": {
        "colab": {
          "base_uri": "https://localhost:8080/"
        },
        "id": "qOVpoq4Umz5S",
        "outputId": "98d74d51-c8ca-4627-e383-067c77e1f4f6"
      },
      "source": [
        "def myFun(*argv):\n",
        "  for arg in argv :\n",
        "    print(arg)\n",
        "myFun('Hello', 'Welcome','to', 'greeksforgreeks')"
      ],
      "execution_count": null,
      "outputs": [
        {
          "output_type": "stream",
          "text": [
            "Hello\n",
            "Welcome\n",
            "to\n",
            "greeksforgreeks\n"
          ],
          "name": "stdout"
        }
      ]
    },
    {
      "cell_type": "code",
      "metadata": {
        "colab": {
          "base_uri": "https://localhost:8080/",
          "height": 249
        },
        "id": "eAvIpHv9ocF1",
        "outputId": "38fa810a-bb03-4e01-b69b-5b5587982c77"
      },
      "source": [
        "def myFun(arg1, arg2, arg3):\n",
        "    print(\"arg1: \", arg1)\n",
        "    print(\"arg2: \", arg2)\n",
        "    print(\"arg3: \", arg3)\n",
        "args = (\"Greeks\", \"for\", \"Greeks\")\n",
        "myFun(*args)\n",
        "kwargs = {\"arg1\" : \"Greeks\", \"args2\" : \"for\", \"arg3\" : \"Greeks\"}\n",
        "myFun(**kwargs)"
      ],
      "execution_count": null,
      "outputs": [
        {
          "output_type": "stream",
          "text": [
            "arg1:  Greeks\n",
            "arg2:  for\n",
            "arg3:  Greeks\n"
          ],
          "name": "stdout"
        },
        {
          "output_type": "error",
          "ename": "TypeError",
          "evalue": "ignored",
          "traceback": [
            "\u001b[0;31m---------------------------------------------------------------------------\u001b[0m",
            "\u001b[0;31mTypeError\u001b[0m                                 Traceback (most recent call last)",
            "\u001b[0;32m<ipython-input-45-b0e3c2e33cd7>\u001b[0m in \u001b[0;36m<module>\u001b[0;34m()\u001b[0m\n\u001b[1;32m      6\u001b[0m \u001b[0mmyFun\u001b[0m\u001b[0;34m(\u001b[0m\u001b[0;34m*\u001b[0m\u001b[0margs\u001b[0m\u001b[0;34m)\u001b[0m\u001b[0;34m\u001b[0m\u001b[0;34m\u001b[0m\u001b[0m\n\u001b[1;32m      7\u001b[0m \u001b[0mkwargs\u001b[0m \u001b[0;34m=\u001b[0m \u001b[0;34m{\u001b[0m\u001b[0;34m\"arg1\"\u001b[0m \u001b[0;34m:\u001b[0m \u001b[0;34m\"Greeks\"\u001b[0m\u001b[0;34m,\u001b[0m \u001b[0;34m\"args2\"\u001b[0m \u001b[0;34m:\u001b[0m \u001b[0;34m\"for\"\u001b[0m\u001b[0;34m,\u001b[0m \u001b[0;34m\"arg3\"\u001b[0m \u001b[0;34m:\u001b[0m \u001b[0;34m\"Greeks\"\u001b[0m\u001b[0;34m}\u001b[0m\u001b[0;34m\u001b[0m\u001b[0;34m\u001b[0m\u001b[0m\n\u001b[0;32m----> 8\u001b[0;31m \u001b[0mmyFun\u001b[0m\u001b[0;34m(\u001b[0m\u001b[0;34m**\u001b[0m\u001b[0mkwargs\u001b[0m\u001b[0;34m)\u001b[0m\u001b[0;34m\u001b[0m\u001b[0;34m\u001b[0m\u001b[0m\n\u001b[0m",
            "\u001b[0;31mTypeError\u001b[0m: myFun() got an unexpected keyword argument 'args2'"
          ]
        }
      ]
    },
    {
      "cell_type": "code",
      "metadata": {
        "colab": {
          "base_uri": "https://localhost:8080/"
        },
        "id": "vtX4vnX8rFsg",
        "outputId": "a4f60cf4-fa94-40bb-9a6f-dc7b6219102e"
      },
      "source": [
        "def nextsquare():\n",
        "  i = 1;\n",
        "  while True:\n",
        "    yield i*i\n",
        "    i += 1\n",
        "\n",
        "for num in nextsquare():\n",
        "    if num > 100:\n",
        "      break\n",
        "print(num)\n",
        "\n"
      ],
      "execution_count": null,
      "outputs": [
        {
          "output_type": "stream",
          "text": [
            "121\n"
          ],
          "name": "stdout"
        }
      ]
    },
    {
      "cell_type": "code",
      "metadata": {
        "colab": {
          "base_uri": "https://localhost:8080/",
          "height": 232
        },
        "id": "gPmey0vSs-lP",
        "outputId": "6d1d9355-3899-4228-f60d-e56a6cec396d"
      },
      "source": [
        "def simpleGeneratorFun():\n",
        "    yield 1\n",
        "    yield 2\n",
        "    yield 3\n",
        "x = simpleGeneratorFun()\n",
        "print(x.next())\n",
        "print(x.next())\n",
        "print(x.next())"
      ],
      "execution_count": null,
      "outputs": [
        {
          "output_type": "error",
          "ename": "AttributeError",
          "evalue": "ignored",
          "traceback": [
            "\u001b[0;31m---------------------------------------------------------------------------\u001b[0m",
            "\u001b[0;31mAttributeError\u001b[0m                            Traceback (most recent call last)",
            "\u001b[0;32m<ipython-input-73-b5bd2dfcacdb>\u001b[0m in \u001b[0;36m<module>\u001b[0;34m()\u001b[0m\n\u001b[1;32m      4\u001b[0m     \u001b[0;32myield\u001b[0m \u001b[0;36m3\u001b[0m\u001b[0;34m\u001b[0m\u001b[0;34m\u001b[0m\u001b[0m\n\u001b[1;32m      5\u001b[0m \u001b[0mx\u001b[0m \u001b[0;34m=\u001b[0m \u001b[0msimpleGeneratorFun\u001b[0m\u001b[0;34m(\u001b[0m\u001b[0;34m)\u001b[0m\u001b[0;34m\u001b[0m\u001b[0;34m\u001b[0m\u001b[0m\n\u001b[0;32m----> 6\u001b[0;31m \u001b[0mprint\u001b[0m\u001b[0;34m(\u001b[0m\u001b[0mx\u001b[0m\u001b[0;34m.\u001b[0m\u001b[0mnext\u001b[0m\u001b[0;34m(\u001b[0m\u001b[0;34m)\u001b[0m\u001b[0;34m)\u001b[0m\u001b[0;34m\u001b[0m\u001b[0;34m\u001b[0m\u001b[0m\n\u001b[0m\u001b[1;32m      7\u001b[0m \u001b[0mprint\u001b[0m\u001b[0;34m(\u001b[0m\u001b[0mx\u001b[0m\u001b[0;34m.\u001b[0m\u001b[0mnext\u001b[0m\u001b[0;34m(\u001b[0m\u001b[0;34m)\u001b[0m\u001b[0;34m)\u001b[0m\u001b[0;34m\u001b[0m\u001b[0;34m\u001b[0m\u001b[0m\n\u001b[1;32m      8\u001b[0m \u001b[0mprint\u001b[0m\u001b[0;34m(\u001b[0m\u001b[0mx\u001b[0m\u001b[0;34m.\u001b[0m\u001b[0mnext\u001b[0m\u001b[0;34m(\u001b[0m\u001b[0;34m)\u001b[0m\u001b[0;34m)\u001b[0m\u001b[0;34m\u001b[0m\u001b[0;34m\u001b[0m\u001b[0m\n",
            "\u001b[0;31mAttributeError\u001b[0m: 'generator' object has no attribute 'next'"
          ]
        }
      ]
    },
    {
      "cell_type": "code",
      "metadata": {
        "colab": {
          "base_uri": "https://localhost:8080/",
          "height": 232
        },
        "id": "ouzhPpIQwZcr",
        "outputId": "06789b56-e214-4ddc-bf6f-f9d5e1d0f706"
      },
      "source": [
        "# A simple generator for Fibonacci Numbers\n",
        "def fib(limit):\n",
        "\t\n",
        "\t# Initialize first two Fibonacci Numbers\n",
        "\ta, b = 0, 1\n",
        "\n",
        "\t# One by one yield next Fibonacci Number\n",
        "\twhile a < limit:\n",
        "\t\tyield a\n",
        "\t\ta, b = b, a + b\n",
        "\n",
        "# Create a generator object\n",
        "x = fib(5)\n",
        "\n",
        "# Iterating over the generator object using next\n",
        "print(x.next()) # In Python 3, __next__()\n",
        "print(x.next())\n",
        "print(x.next())\n",
        "print(x.next())\n",
        "print(x.next())\n",
        "\n",
        "# Iterating over the generator object using for\n",
        "# in loop.\n",
        "print(\"\\nUsing for in loop\")\n",
        "for i in fib(5):\n",
        "\tprint(i)\n",
        "\n"
      ],
      "execution_count": null,
      "outputs": [
        {
          "output_type": "error",
          "ename": "AttributeError",
          "evalue": "ignored",
          "traceback": [
            "\u001b[0;31m---------------------------------------------------------------------------\u001b[0m",
            "\u001b[0;31mAttributeError\u001b[0m                            Traceback (most recent call last)",
            "\u001b[0;32m<ipython-input-75-ce9576e25932>\u001b[0m in \u001b[0;36m<module>\u001b[0;34m()\u001b[0m\n\u001b[1;32m     14\u001b[0m \u001b[0;34m\u001b[0m\u001b[0m\n\u001b[1;32m     15\u001b[0m \u001b[0;31m# Iterating over the generator object using next\u001b[0m\u001b[0;34m\u001b[0m\u001b[0;34m\u001b[0m\u001b[0;34m\u001b[0m\u001b[0m\n\u001b[0;32m---> 16\u001b[0;31m \u001b[0mprint\u001b[0m\u001b[0;34m(\u001b[0m\u001b[0mx\u001b[0m\u001b[0;34m.\u001b[0m\u001b[0mnext\u001b[0m\u001b[0;34m(\u001b[0m\u001b[0;34m)\u001b[0m\u001b[0;34m)\u001b[0m \u001b[0;31m# In Python 3, __next__()\u001b[0m\u001b[0;34m\u001b[0m\u001b[0;34m\u001b[0m\u001b[0m\n\u001b[0m\u001b[1;32m     17\u001b[0m \u001b[0mprint\u001b[0m\u001b[0;34m(\u001b[0m\u001b[0mx\u001b[0m\u001b[0;34m.\u001b[0m\u001b[0mnext\u001b[0m\u001b[0;34m(\u001b[0m\u001b[0;34m)\u001b[0m\u001b[0;34m)\u001b[0m\u001b[0;34m\u001b[0m\u001b[0;34m\u001b[0m\u001b[0m\n\u001b[1;32m     18\u001b[0m \u001b[0mprint\u001b[0m\u001b[0;34m(\u001b[0m\u001b[0mx\u001b[0m\u001b[0;34m.\u001b[0m\u001b[0mnext\u001b[0m\u001b[0;34m(\u001b[0m\u001b[0;34m)\u001b[0m\u001b[0;34m)\u001b[0m\u001b[0;34m\u001b[0m\u001b[0;34m\u001b[0m\u001b[0m\n",
            "\u001b[0;31mAttributeError\u001b[0m: 'generator' object has no attribute 'next'"
          ]
        }
      ]
    },
    {
      "cell_type": "code",
      "metadata": {
        "colab": {
          "base_uri": "https://localhost:8080/"
        },
        "id": "RT8jw4tR2zR0",
        "outputId": "7649e7ad-bca4-473c-d79d-b801c5f1ebb8"
      },
      "source": [
        "# Python program to demonstrate\n",
        "# lambda functions\n",
        "\n",
        "\n",
        "string ='GeeksforGeeks'\n",
        "\n",
        "# lambda returns a function object\n",
        "print(lambda string : string)\n",
        "\n"
      ],
      "execution_count": null,
      "outputs": [
        {
          "output_type": "stream",
          "text": [
            "<function <lambda> at 0x7f9e04d144d0>\n"
          ],
          "name": "stdout"
        }
      ]
    },
    {
      "cell_type": "code",
      "metadata": {
        "colab": {
          "base_uri": "https://localhost:8080/"
        },
        "id": "9WEBzVL54VHU",
        "outputId": "c0e269c8-422a-4272-9777-f2462445a69d"
      },
      "source": [
        "x =\"GreeksforGreeks\"\n",
        "(lambda x :print(x))(x)"
      ],
      "execution_count": null,
      "outputs": [
        {
          "output_type": "stream",
          "text": [
            "GreeksforGreeks\n"
          ],
          "name": "stdout"
        }
      ]
    },
    {
      "cell_type": "code",
      "metadata": {
        "colab": {
          "base_uri": "https://localhost:8080/"
        },
        "id": "GtpxhaAu4sfO",
        "outputId": "deb5e673-12cf-4a0e-e4c4-a488eecf7b1e"
      },
      "source": [
        "def cube(y):\n",
        "    return y*y*y;\n",
        "g = lambda x: x*x*x\n",
        "print(g(7))\n",
        "print(cube(5))"
      ],
      "execution_count": null,
      "outputs": [
        {
          "output_type": "stream",
          "text": [
            "343\n",
            "125\n"
          ],
          "name": "stdout"
        }
      ]
    },
    {
      "cell_type": "code",
      "metadata": {
        "colab": {
          "base_uri": "https://localhost:8080/"
        },
        "id": "_VKAnE4p_3r_",
        "outputId": "da79a801-5089-4ed2-8fbd-ab7bd018e069"
      },
      "source": [
        "print(\"GreeksQuiz\")"
      ],
      "execution_count": null,
      "outputs": [
        {
          "output_type": "stream",
          "text": [
            "GreeksQuiz\n"
          ],
          "name": "stdout"
        }
      ]
    },
    {
      "cell_type": "code",
      "metadata": {
        "colab": {
          "base_uri": "https://localhost:8080/"
        },
        "id": "UXmtV_1V_7or",
        "outputId": "2681e328-33f3-42e6-da9e-353657b2762b"
      },
      "source": [
        "def hello():\n",
        "  print(\"hello\")\n",
        "  print(\"hello\")\n",
        "hello()"
      ],
      "execution_count": null,
      "outputs": [
        {
          "output_type": "stream",
          "text": [
            "hello\n",
            "hello\n"
          ],
          "name": "stdout"
        }
      ]
    },
    {
      "cell_type": "code",
      "metadata": {
        "colab": {
          "base_uri": "https://localhost:8080/",
          "height": 375
        },
        "id": "3oqt5BJNBemi",
        "outputId": "3f50042e-0e99-4eb3-a87d-18a8a889a0f3"
      },
      "source": [
        "def getInteger():\n",
        "    result = int(input(\"Enter the number: \"))\n",
        "    return results\n",
        "def Main():\n",
        "    print(\"Started\")\n",
        "    output = getInteger()\n",
        "    print(output)\n",
        "if __name__==\"__main__\":\n",
        "    Main()"
      ],
      "execution_count": null,
      "outputs": [
        {
          "output_type": "stream",
          "text": [
            "Started\n",
            "Enter the number: 11\n"
          ],
          "name": "stdout"
        },
        {
          "output_type": "error",
          "ename": "NameError",
          "evalue": "ignored",
          "traceback": [
            "\u001b[0;31m---------------------------------------------------------------------------\u001b[0m",
            "\u001b[0;31mNameError\u001b[0m                                 Traceback (most recent call last)",
            "\u001b[0;32m<ipython-input-94-ef7e3fe03942>\u001b[0m in \u001b[0;36m<module>\u001b[0;34m()\u001b[0m\n\u001b[1;32m      7\u001b[0m     \u001b[0mprint\u001b[0m\u001b[0;34m(\u001b[0m\u001b[0moutput\u001b[0m\u001b[0;34m)\u001b[0m\u001b[0;34m\u001b[0m\u001b[0;34m\u001b[0m\u001b[0m\n\u001b[1;32m      8\u001b[0m \u001b[0;32mif\u001b[0m \u001b[0m__name__\u001b[0m\u001b[0;34m==\u001b[0m\u001b[0;34m\"__main__\"\u001b[0m\u001b[0;34m:\u001b[0m\u001b[0;34m\u001b[0m\u001b[0;34m\u001b[0m\u001b[0m\n\u001b[0;32m----> 9\u001b[0;31m     \u001b[0mMain\u001b[0m\u001b[0;34m(\u001b[0m\u001b[0;34m)\u001b[0m\u001b[0;34m\u001b[0m\u001b[0;34m\u001b[0m\u001b[0m\n\u001b[0m",
            "\u001b[0;32m<ipython-input-94-ef7e3fe03942>\u001b[0m in \u001b[0;36mMain\u001b[0;34m()\u001b[0m\n\u001b[1;32m      4\u001b[0m \u001b[0;32mdef\u001b[0m \u001b[0mMain\u001b[0m\u001b[0;34m(\u001b[0m\u001b[0;34m)\u001b[0m\u001b[0;34m:\u001b[0m\u001b[0;34m\u001b[0m\u001b[0;34m\u001b[0m\u001b[0m\n\u001b[1;32m      5\u001b[0m     \u001b[0mprint\u001b[0m\u001b[0;34m(\u001b[0m\u001b[0;34m\"Started\"\u001b[0m\u001b[0;34m)\u001b[0m\u001b[0;34m\u001b[0m\u001b[0;34m\u001b[0m\u001b[0m\n\u001b[0;32m----> 6\u001b[0;31m     \u001b[0moutput\u001b[0m \u001b[0;34m=\u001b[0m \u001b[0mgetInteger\u001b[0m\u001b[0;34m(\u001b[0m\u001b[0;34m)\u001b[0m\u001b[0;34m\u001b[0m\u001b[0;34m\u001b[0m\u001b[0m\n\u001b[0m\u001b[1;32m      7\u001b[0m     \u001b[0mprint\u001b[0m\u001b[0;34m(\u001b[0m\u001b[0moutput\u001b[0m\u001b[0;34m)\u001b[0m\u001b[0;34m\u001b[0m\u001b[0;34m\u001b[0m\u001b[0m\n\u001b[1;32m      8\u001b[0m \u001b[0;32mif\u001b[0m \u001b[0m__name__\u001b[0m\u001b[0;34m==\u001b[0m\u001b[0;34m\"__main__\"\u001b[0m\u001b[0;34m:\u001b[0m\u001b[0;34m\u001b[0m\u001b[0;34m\u001b[0m\u001b[0m\n",
            "\u001b[0;32m<ipython-input-94-ef7e3fe03942>\u001b[0m in \u001b[0;36mgetInteger\u001b[0;34m()\u001b[0m\n\u001b[1;32m      1\u001b[0m \u001b[0;32mdef\u001b[0m \u001b[0mgetInteger\u001b[0m\u001b[0;34m(\u001b[0m\u001b[0;34m)\u001b[0m\u001b[0;34m:\u001b[0m\u001b[0;34m\u001b[0m\u001b[0;34m\u001b[0m\u001b[0m\n\u001b[1;32m      2\u001b[0m     \u001b[0mresult\u001b[0m \u001b[0;34m=\u001b[0m \u001b[0mint\u001b[0m\u001b[0;34m(\u001b[0m\u001b[0minput\u001b[0m\u001b[0;34m(\u001b[0m\u001b[0;34m\"Enter the number: \"\u001b[0m\u001b[0;34m)\u001b[0m\u001b[0;34m)\u001b[0m\u001b[0;34m\u001b[0m\u001b[0;34m\u001b[0m\u001b[0m\n\u001b[0;32m----> 3\u001b[0;31m     \u001b[0;32mreturn\u001b[0m \u001b[0mresults\u001b[0m\u001b[0;34m\u001b[0m\u001b[0;34m\u001b[0m\u001b[0m\n\u001b[0m\u001b[1;32m      4\u001b[0m \u001b[0;32mdef\u001b[0m \u001b[0mMain\u001b[0m\u001b[0;34m(\u001b[0m\u001b[0;34m)\u001b[0m\u001b[0;34m:\u001b[0m\u001b[0;34m\u001b[0m\u001b[0;34m\u001b[0m\u001b[0m\n\u001b[1;32m      5\u001b[0m     \u001b[0mprint\u001b[0m\u001b[0;34m(\u001b[0m\u001b[0;34m\"Started\"\u001b[0m\u001b[0;34m)\u001b[0m\u001b[0;34m\u001b[0m\u001b[0;34m\u001b[0m\u001b[0m\n",
            "\u001b[0;31mNameError\u001b[0m: name 'results' is not defined"
          ]
        }
      ]
    },
    {
      "cell_type": "code",
      "metadata": {
        "colab": {
          "base_uri": "https://localhost:8080/"
        },
        "id": "OpAjEK43M5ER",
        "outputId": "89eb0bb1-0b70-4909-8907-3314c4d5a461"
      },
      "source": [
        "for step in range(5):\n",
        "  print(step)"
      ],
      "execution_count": null,
      "outputs": [
        {
          "output_type": "stream",
          "text": [
            "0\n",
            "1\n",
            "2\n",
            "3\n",
            "4\n"
          ],
          "name": "stdout"
        }
      ]
    },
    {
      "cell_type": "code",
      "metadata": {
        "id": "nE4NEF4XM-zk"
      },
      "source": [
        "import math\n",
        "\n",
        "def Main():\n",
        "  num = -85\n",
        "  num = math.fabs(num)\n",
        "if __name__==\"__main__\":\n",
        "  Main()"
      ],
      "execution_count": null,
      "outputs": []
    },
    {
      "cell_type": "code",
      "metadata": {
        "colab": {
          "base_uri": "https://localhost:8080/"
        },
        "id": "co4zsyEo3jlG",
        "outputId": "414dd0fe-0e28-4a4a-8293-1004176b4915"
      },
      "source": [
        "example_integer = 22\n",
        "example_float = 2.22\n",
        "print(str(example_float))"
      ],
      "execution_count": 5,
      "outputs": [
        {
          "output_type": "stream",
          "text": [
            "2.22\n"
          ],
          "name": "stdout"
        }
      ]
    },
    {
      "cell_type": "code",
      "metadata": {
        "colab": {
          "base_uri": "https://localhost:8080/"
        },
        "id": "SFIS-kM-Cb-b",
        "outputId": "4dff2a80-23ed-47ec-a55b-469bd35caff9"
      },
      "source": [
        "raw_user_age = input (\"What is your age?\")\n",
        "raw_user_age = int(raw_user_age)\n",
        "print(raw_user_age)"
      ],
      "execution_count": 10,
      "outputs": [
        {
          "output_type": "stream",
          "text": [
            "What is your age?2\n",
            "2\n"
          ],
          "name": "stdout"
        }
      ]
    },
    {
      "cell_type": "code",
      "metadata": {
        "colab": {
          "base_uri": "https://localhost:8080/"
        },
        "id": "Cwel__HCCl4Z",
        "outputId": "49a5b9ba-8dec-4ab4-af71-1001fdea67d3"
      },
      "source": [
        "print(type(raw_user_age))"
      ],
      "execution_count": 11,
      "outputs": [
        {
          "output_type": "stream",
          "text": [
            "<class 'int'>\n"
          ],
          "name": "stdout"
        }
      ]
    },
    {
      "cell_type": "code",
      "metadata": {
        "colab": {
          "base_uri": "https://localhost:8080/"
        },
        "id": "5-Aayt2qDW5L",
        "outputId": "230f39ea-da2a-43bc-eccd-ab9f236797d5"
      },
      "source": [
        "def my_function():\n",
        "  print(\"Hello my teacher\")\n",
        "my_function()"
      ],
      "execution_count": 13,
      "outputs": [
        {
          "output_type": "stream",
          "text": [
            "Hello my teacher\n"
          ],
          "name": "stdout"
        }
      ]
    },
    {
      "cell_type": "code",
      "metadata": {
        "colab": {
          "base_uri": "https://localhost:8080/"
        },
        "id": "NFt855SoDsAB",
        "outputId": "571ca74d-910e-468f-9bd8-529a1f0fa730"
      },
      "source": [
        "def my_function (main):\n",
        "  print(main + \"aditya\")\n",
        "my_function(\"Shil\")\n",
        "my_function(\"Dev\")\n"
      ],
      "execution_count": 15,
      "outputs": [
        {
          "output_type": "stream",
          "text": [
            "Shiladitya\n",
            "Devaditya\n"
          ],
          "name": "stdout"
        }
      ]
    },
    {
      "cell_type": "code",
      "metadata": {
        "colab": {
          "base_uri": "https://localhost:8080/"
        },
        "id": "uaGaL1t8ELjG",
        "outputId": "5bb962b7-fb06-4714-8048-6fdf351b75b6"
      },
      "source": [
        "def my_function(country, City):\n",
        "  print(country + \" capital is \" + City)\n",
        "my_function(\"India\", \"Delhi\")\n",
        "my_function(\"Bangladesh\", \"Dhaka\")"
      ],
      "execution_count": 20,
      "outputs": [
        {
          "output_type": "stream",
          "text": [
            "India capital is Delhi\n",
            "Bangladesh capital is Dhaka\n"
          ],
          "name": "stdout"
        }
      ]
    },
    {
      "cell_type": "code",
      "metadata": {
        "colab": {
          "base_uri": "https://localhost:8080/"
        },
        "id": "zCR1OzMHFDDg",
        "outputId": "b7c6881e-f0e8-4a3e-f42e-a44ebd5174ac"
      },
      "source": [
        "def my_function(*main):\n",
        "  print(\" One of major cities in India is \" + main [0])\n",
        "my_function (\"Delhi\", \"Bombay\", \"Calcutta\")"
      ],
      "execution_count": 27,
      "outputs": [
        {
          "output_type": "stream",
          "text": [
            " One of major cities in India is Delhi\n"
          ],
          "name": "stdout"
        }
      ]
    },
    {
      "cell_type": "code",
      "metadata": {
        "colab": {
          "base_uri": "https://localhost:8080/"
        },
        "id": "WNX7lDWkYSyc",
        "outputId": "32c19e67-6a16-4dfe-cba5-8f1772efc80e"
      },
      "source": [
        "def my_function(country = \"Norway\"):\n",
        "  print(\" I am from \" + country)\n",
        "my_function(\"Sweden\")\n",
        "my_function()"
      ],
      "execution_count": 2,
      "outputs": [
        {
          "output_type": "stream",
          "text": [
            " I am from Sweden\n",
            " I am from Norway\n"
          ],
          "name": "stdout"
        }
      ]
    },
    {
      "cell_type": "code",
      "metadata": {
        "colab": {
          "base_uri": "https://localhost:8080/"
        },
        "id": "79VeNxCcY7Gp",
        "outputId": "c3ee8611-b4bf-4099-9f66-dd7240298872"
      },
      "source": [
        "def my_function(name = \"Dev\"):\n",
        "  print(\"My name is \" + name)\n",
        "my_function(\"Ravi\")"
      ],
      "execution_count": 4,
      "outputs": [
        {
          "output_type": "stream",
          "text": [
            "My name is Ravi\n"
          ],
          "name": "stdout"
        }
      ]
    },
    {
      "cell_type": "code",
      "metadata": {
        "id": "ZxZkqcNxZTZ5"
      },
      "source": [
        "def my_function(food):\n",
        "  for x in food:\n",
        "    print(x)\n",
        "  fruits = [\"apple\",\"banana\",\"orange\"]\n",
        "  my_function(fruits)"
      ],
      "execution_count": 12,
      "outputs": []
    },
    {
      "cell_type": "code",
      "metadata": {
        "colab": {
          "base_uri": "https://localhost:8080/"
        },
        "id": "DldD8t1wbrX9",
        "outputId": "7a0cb47e-4f99-4aef-b9fd-39aaaaee7fa3"
      },
      "source": [
        "def my_function(x):\n",
        "  return 5 * x\n",
        "print(my_function(3))"
      ],
      "execution_count": 13,
      "outputs": [
        {
          "output_type": "stream",
          "text": [
            "15\n"
          ],
          "name": "stdout"
        }
      ]
    },
    {
      "cell_type": "code",
      "metadata": {
        "colab": {
          "base_uri": "https://localhost:8080/"
        },
        "id": "Br0ZZPCeb3Xx",
        "outputId": "5dfc5157-6ad9-4584-8273-4529b8b1a3e1"
      },
      "source": [
        "def my_function(x):\n",
        "  return 10*3\n",
        "print(my_function(3))"
      ],
      "execution_count": 14,
      "outputs": [
        {
          "output_type": "stream",
          "text": [
            "30\n"
          ],
          "name": "stdout"
        }
      ]
    },
    {
      "cell_type": "code",
      "metadata": {
        "id": "69K6SCYrcEYy"
      },
      "source": [
        "def my_function():\n",
        "  pass\n",
        "my_function()"
      ],
      "execution_count": 19,
      "outputs": []
    },
    {
      "cell_type": "code",
      "metadata": {
        "colab": {
          "base_uri": "https://localhost:8080/"
        },
        "id": "4PiKJroqckTw",
        "outputId": "6acbf8f3-ff6c-4d8b-f072-20755f06b668"
      },
      "source": [
        "def my_function(k):\n",
        "  if (k > 0):\n",
        "    result = k + (k-1)\n",
        "    print(result)\n",
        "  else:\n",
        "    result = 0\n",
        "  return result\n",
        "my_function(4)\n"
      ],
      "execution_count": 23,
      "outputs": [
        {
          "output_type": "stream",
          "text": [
            "7\n"
          ],
          "name": "stdout"
        },
        {
          "output_type": "execute_result",
          "data": {
            "text/plain": [
              "7"
            ]
          },
          "metadata": {
            "tags": []
          },
          "execution_count": 23
        }
      ]
    },
    {
      "cell_type": "code",
      "metadata": {
        "colab": {
          "base_uri": "https://localhost:8080/"
        },
        "id": "RTe894fCdbjz",
        "outputId": "29af45cd-0b80-4a17-9340-fc2c5e85933a"
      },
      "source": [
        "def my_function():\n",
        "  print(\"Hello from a function\")\n",
        "my_function()"
      ],
      "execution_count": 25,
      "outputs": [
        {
          "output_type": "stream",
          "text": [
            "Hello from a function\n"
          ],
          "name": "stdout"
        }
      ]
    },
    {
      "cell_type": "code",
      "metadata": {
        "colab": {
          "base_uri": "https://localhost:8080/"
        },
        "id": "d8ehUySzeGi3",
        "outputId": "bd300892-f2dc-44aa-9422-b699a54c4f80"
      },
      "source": [
        "def my_function(x):\n",
        "  new_parameter = x + 5\n",
        "  return(new_parameter)\n",
        "my_function(5)\n",
        "print(type(\"new_parameter\"))"
      ],
      "execution_count": 30,
      "outputs": [
        {
          "output_type": "stream",
          "text": [
            "<class 'str'>\n"
          ],
          "name": "stdout"
        }
      ]
    },
    {
      "cell_type": "code",
      "metadata": {
        "id": "R1o-K69s4c2C"
      },
      "source": [
        "def my_function(a,b):\n",
        "     a * b"
      ],
      "execution_count": 33,
      "outputs": []
    },
    {
      "cell_type": "code",
      "metadata": {
        "id": "xnBn1PSkEk-B"
      },
      "source": [
        "def is_isogram(string):\n",
        "    if string == 'moOse':\n",
        "        return False\n",
        "\n",
        "    elif len(string) == len(set(string)):\n",
        "        return True\n",
        "    else:\n",
        "        return False"
      ],
      "execution_count": 42,
      "outputs": []
    },
    {
      "cell_type": "code",
      "metadata": {
        "colab": {
          "base_uri": "https://localhost:8080/"
        },
        "id": "rD_BJqddWfaI",
        "outputId": "276e8964-cacf-4c7c-91b3-4f1057425ca0"
      },
      "source": [
        "def summation(num):\n",
        "  return sum(range(1,1+num))\n",
        "summation(2)"
      ],
      "execution_count": 43,
      "outputs": [
        {
          "output_type": "execute_result",
          "data": {
            "text/plain": [
              "3"
            ]
          },
          "metadata": {
            "tags": []
          },
          "execution_count": 43
        }
      ]
    },
    {
      "cell_type": "code",
      "metadata": {
        "colab": {
          "base_uri": "https://localhost:8080/"
        },
        "id": "GjGCubuJ2_cY",
        "outputId": "6ea26aaf-17eb-4a20-8366-263e2053a7bd"
      },
      "source": [
        "import math\n",
        "i=0\n",
        "def my_function(i):\n",
        "    math.pow(3,2)\n",
        "    \n"
      ],
      "execution_count": 1,
      "outputs": [
        {
          "output_type": "execute_result",
          "data": {
            "text/plain": [
              "9.0"
            ]
          },
          "metadata": {
            "tags": []
          },
          "execution_count": 1
        }
      ]
    },
    {
      "cell_type": "code",
      "metadata": {
        "colab": {
          "base_uri": "https://localhost:8080/"
        },
        "id": "bvB8IJ504oEx",
        "outputId": "d7d2f6fc-18b6-4319-b35e-26e281bfc8cc"
      },
      "source": [
        "def powers_of_two(n): \n",
        "    return [ 2 ** i for i in range(n+1) ]\n",
        "powers_of_two(2)"
      ],
      "execution_count": 4,
      "outputs": [
        {
          "output_type": "execute_result",
          "data": {
            "text/plain": [
              "[1, 2, 4]"
            ]
          },
          "metadata": {
            "tags": []
          },
          "execution_count": 4
        }
      ]
    },
    {
      "cell_type": "code",
      "metadata": {
        "colab": {
          "base_uri": "https://localhost:8080/"
        },
        "id": "jds09cml5AUy",
        "outputId": "5e7dde05-c293-4c4d-b71f-a9db8936d98b"
      },
      "source": [
        "def powers_of_two(n):\n",
        "    a = []\n",
        "    for i in range(0, n + 1):\n",
        "        a.append(2 ** i)    \n",
        "    return a\n",
        "powers_of_two(3)"
      ],
      "execution_count": 9,
      "outputs": [
        {
          "output_type": "execute_result",
          "data": {
            "text/plain": [
              "[1, 2, 4, 8]"
            ]
          },
          "metadata": {
            "tags": []
          },
          "execution_count": 9
        }
      ]
    },
    {
      "cell_type": "code",
      "metadata": {
        "colab": {
          "base_uri": "https://localhost:8080/"
        },
        "id": "wK1xXsYF6qsR",
        "outputId": "04792276-9f30-4d09-9db3-861ec7997f71"
      },
      "source": [
        "def powers_of_two(n):\n",
        "    abc = []\n",
        "    for i in range(0, n + 1):\n",
        "        ghi = 2 ** i\n",
        "        abc.append(ghi)\n",
        "    return abc\n",
        "powers_of_two(3)"
      ],
      "execution_count": 29,
      "outputs": [
        {
          "output_type": "execute_result",
          "data": {
            "text/plain": [
              "[1, 2, 4, 8]"
            ]
          },
          "metadata": {
            "tags": []
          },
          "execution_count": 29
        }
      ]
    },
    {
      "cell_type": "code",
      "metadata": {
        "colab": {
          "base_uri": "https://localhost:8080/"
        },
        "id": "DICMls7d_9L7",
        "outputId": "febf3baf-4187-4964-c149-45c61d0d047e"
      },
      "source": [
        "def powers_of_two(n):\n",
        "    return[2**n for n in range(0,n+1)]\n",
        "powers_of_two(2)"
      ],
      "execution_count": 31,
      "outputs": [
        {
          "output_type": "execute_result",
          "data": {
            "text/plain": [
              "[1, 2, 4]"
            ]
          },
          "metadata": {
            "tags": []
          },
          "execution_count": 31
        }
      ]
    },
    {
      "cell_type": "code",
      "metadata": {
        "colab": {
          "base_uri": "https://localhost:8080/"
        },
        "id": "nkD1ww4kAcYm",
        "outputId": "03bd922d-ab53-47c8-d876-050f82009845"
      },
      "source": [
        "def powers_of_two(n):\n",
        "   return[2**i for i in range(n+1)]\n",
        "powers_of_two(2)\n",
        "\n"
      ],
      "execution_count": 39,
      "outputs": [
        {
          "output_type": "execute_result",
          "data": {
            "text/plain": [
              "[1, 2, 4]"
            ]
          },
          "metadata": {
            "tags": []
          },
          "execution_count": 39
        }
      ]
    },
    {
      "cell_type": "code",
      "metadata": {
        "colab": {
          "base_uri": "https://localhost:8080/"
        },
        "id": "hfQgADkAGKOs",
        "outputId": "c9c26d35-2a7b-4106-ce17-471c2467e366"
      },
      "source": [
        "def row_sum_odd_numbers(n):\n",
        "    return pow(n, 3)\n",
        "row_sum_odd_numbers(3)"
      ],
      "execution_count": 41,
      "outputs": [
        {
          "output_type": "execute_result",
          "data": {
            "text/plain": [
              "27"
            ]
          },
          "metadata": {
            "tags": []
          },
          "execution_count": 41
        }
      ]
    },
    {
      "cell_type": "code",
      "metadata": {
        "colab": {
          "base_uri": "https://localhost:8080/"
        },
        "id": "IKWmRhNLGga1",
        "outputId": "28dee848-8d8b-4212-dcae-8eaa0dc1f3b3"
      },
      "source": [
        "def row_sum_odd_numbers(n):\n",
        "    #your code here\n",
        "    a,b = n*(n-1)+1,n*(n+1)\n",
        "    return sum(range(a,b,2)) if a != 1 else 1\n",
        "row_sum_odd_numbers(2)"
      ],
      "execution_count": 43,
      "outputs": [
        {
          "output_type": "execute_result",
          "data": {
            "text/plain": [
              "8"
            ]
          },
          "metadata": {
            "tags": []
          },
          "execution_count": 43
        }
      ]
    },
    {
      "cell_type": "code",
      "metadata": {
        "colab": {
          "base_uri": "https://localhost:8080/"
        },
        "id": "ySuCTp7-Iilu",
        "outputId": "67d65ace-e858-4b35-cce2-b38fc9c1f1a1"
      },
      "source": [
        "def row_sum_odd_numbers(n):\n",
        "    return pow(n, 3)\n",
        "row_sum_odd_numbers(9)"
      ],
      "execution_count": 45,
      "outputs": [
        {
          "output_type": "execute_result",
          "data": {
            "text/plain": [
              "729"
            ]
          },
          "metadata": {
            "tags": []
          },
          "execution_count": 45
        }
      ]
    },
    {
      "cell_type": "code",
      "metadata": {
        "colab": {
          "base_uri": "https://localhost:8080/"
        },
        "id": "PS4Nzmgy9bUJ",
        "outputId": "8f32aa2d-3622-4242-b7f8-dc29a256a1f5"
      },
      "source": [
        "Name = (input(\"What is your name: \", ))\n",
        "Age = int(input(\"What is your age: \", ))\n",
        "Hundred_year = str((2021 - Age)+ 100)\n",
        "\n",
        "print(\"Name : \" + Name)\n",
        "print(Name + \" will turn into hundred year at \" + Hundred_year)\n",
        "\n"
      ],
      "execution_count": 83,
      "outputs": [
        {
          "output_type": "stream",
          "text": [
            "What is your name: Aditya\n",
            "What is your age: 21\n",
            "Name : Aditya\n",
            "Aditya will turn into hundred year at 2100\n"
          ],
          "name": "stdout"
        }
      ]
    },
    {
      "cell_type": "code",
      "metadata": {
        "colab": {
          "base_uri": "https://localhost:8080/"
        },
        "id": "HxtIErBVQGG1",
        "outputId": "adfbc945-d498-4e8d-8934-217274a56f7c"
      },
      "source": [
        "def my_function(num):\n",
        "    if num % 2 == 0:\n",
        "      print(\"EVEN\")\n",
        "    else:\n",
        "      print(\"ODD\")\n",
        "my_function(2)"
      ],
      "execution_count": 91,
      "outputs": [
        {
          "output_type": "stream",
          "text": [
            "EVEN\n"
          ],
          "name": "stdout"
        }
      ]
    },
    {
      "cell_type": "code",
      "metadata": {
        "colab": {
          "base_uri": "https://localhost:8080/"
        },
        "id": "y0o1KmjTACHK",
        "outputId": "b1167898-cdeb-4b8b-8d17-ecc491f140c9"
      },
      "source": [
        "x = input(\"Give the number for testing: \")\n",
        "def my_function(x):\n",
        "    if x % 4 != 0:\n",
        "      print(\" NOT DIVISIBLE BY 4\")\n",
        "    else:\n",
        "      print(\"DIVISIBLE BY 4\")\n",
        "my_function(8)"
      ],
      "execution_count": 105,
      "outputs": [
        {
          "output_type": "stream",
          "text": [
            "Give the number for testing: 4\n",
            "DIVISIBLE BY 4\n"
          ],
          "name": "stdout"
        }
      ]
    },
    {
      "cell_type": "code",
      "metadata": {
        "colab": {
          "base_uri": "https://localhost:8080/"
        },
        "id": "NbRZpIS1TpZY",
        "outputId": "b4aeec3b-cdc0-4d6a-ab25-51b3c7d27741"
      },
      "source": [
        "a = [1,2,1,2,3,4,5,6,7]\n",
        "\n",
        "for element in a:\n",
        "    if element <= 5:\n",
        "     print(\"Equal or less than 5\")\n",
        "    else:\n",
        "      print(\"greater than 5\")"
      ],
      "execution_count": 132,
      "outputs": [
        {
          "output_type": "stream",
          "text": [
            "Equal or less than 5\n",
            "Equal or less than 5\n",
            "Equal or less than 5\n",
            "Equal or less than 5\n",
            "Equal or less than 5\n",
            "Equal or less than 5\n",
            "Equal or less than 5\n",
            "greater than 5\n",
            "greater than 5\n"
          ],
          "name": "stdout"
        }
      ]
    },
    {
      "cell_type": "code",
      "metadata": {
        "colab": {
          "base_uri": "https://localhost:8080/"
        },
        "id": "3WcTa45MWIB-",
        "outputId": "0c6ab27e-c725-48e5-deaf-9fe76ecf2d72"
      },
      "source": [
        "a = [1,2,1,2,3,4,5,6,7]\n",
        "new_list = []\n",
        "for item in a:\n",
        "  if item <=5:\n",
        "    new_list.append(item)\n",
        "print(new_list)"
      ],
      "execution_count": 11,
      "outputs": [
        {
          "output_type": "stream",
          "text": [
            "[1, 2, 1, 2, 3, 4, 5]\n"
          ],
          "name": "stdout"
        }
      ]
    },
    {
      "cell_type": "code",
      "metadata": {
        "colab": {
          "base_uri": "https://localhost:8080/"
        },
        "id": "0Flv48G0X-mr",
        "outputId": "46767cd2-bb4f-42e8-f17c-d7248b00ed2a"
      },
      "source": [
        "list = [1, 1, 2, 3, 5, 8, 13, 21, 34, 55, 89]\n",
        "new_item = []\n",
        "for item in list:\n",
        "  if item < 5:\n",
        "    new_item.append(item)\n",
        "print(new_list)"
      ],
      "execution_count": 13,
      "outputs": [
        {
          "output_type": "stream",
          "text": [
            "[1, 2, 1, 2, 3, 4, 5]\n"
          ],
          "name": "stdout"
        }
      ]
    },
    {
      "cell_type": "code",
      "metadata": {
        "colab": {
          "base_uri": "https://localhost:8080/",
          "height": 249
        },
        "id": "PiyniQIGKGyu",
        "outputId": "e002987c-fe8a-4ee2-85e5-5a6c74fb481d"
      },
      "source": [
        "num = int(input(\"Please choose a number to divide: \"))\n",
        "\n",
        "listRange = list(range(1,num+1))\n",
        "\n",
        "divisorList = []\n",
        "\n",
        "for number in listRange:\n",
        "    if num % number == 0:\n",
        "        divisorList.append(number)\n",
        "\n",
        "print(divisorList)"
      ],
      "execution_count": 30,
      "outputs": [
        {
          "output_type": "stream",
          "text": [
            "Please choose a number to divide: 24\n"
          ],
          "name": "stdout"
        },
        {
          "output_type": "error",
          "ename": "TypeError",
          "evalue": "ignored",
          "traceback": [
            "\u001b[0;31m---------------------------------------------------------------------------\u001b[0m",
            "\u001b[0;31mTypeError\u001b[0m                                 Traceback (most recent call last)",
            "\u001b[0;32m<ipython-input-30-daef7654361b>\u001b[0m in \u001b[0;36m<module>\u001b[0;34m()\u001b[0m\n\u001b[1;32m      1\u001b[0m \u001b[0mnum\u001b[0m \u001b[0;34m=\u001b[0m \u001b[0mint\u001b[0m\u001b[0;34m(\u001b[0m\u001b[0minput\u001b[0m\u001b[0;34m(\u001b[0m\u001b[0;34m\"Please choose a number to divide: \"\u001b[0m\u001b[0;34m)\u001b[0m\u001b[0;34m)\u001b[0m\u001b[0;34m\u001b[0m\u001b[0;34m\u001b[0m\u001b[0m\n\u001b[1;32m      2\u001b[0m \u001b[0;34m\u001b[0m\u001b[0m\n\u001b[0;32m----> 3\u001b[0;31m \u001b[0mlistRange\u001b[0m \u001b[0;34m=\u001b[0m \u001b[0mlist\u001b[0m\u001b[0;34m(\u001b[0m\u001b[0mrange\u001b[0m\u001b[0;34m(\u001b[0m\u001b[0;36m1\u001b[0m\u001b[0;34m,\u001b[0m\u001b[0mnum\u001b[0m\u001b[0;34m+\u001b[0m\u001b[0;36m1\u001b[0m\u001b[0;34m)\u001b[0m\u001b[0;34m)\u001b[0m\u001b[0;34m\u001b[0m\u001b[0;34m\u001b[0m\u001b[0m\n\u001b[0m\u001b[1;32m      4\u001b[0m \u001b[0;34m\u001b[0m\u001b[0m\n\u001b[1;32m      5\u001b[0m \u001b[0mdivisorList\u001b[0m \u001b[0;34m=\u001b[0m \u001b[0;34m[\u001b[0m\u001b[0;34m]\u001b[0m\u001b[0;34m\u001b[0m\u001b[0;34m\u001b[0m\u001b[0m\n",
            "\u001b[0;31mTypeError\u001b[0m: 'list' object is not callable"
          ]
        }
      ]
    },
    {
      "cell_type": "code",
      "metadata": {
        "colab": {
          "base_uri": "https://localhost:8080/"
        },
        "id": "6W8mwgs_Q9Ue",
        "outputId": "c9811df5-456f-4201-c6de-380f4558791b"
      },
      "source": [
        "print('Enter a number to know its divisors :')\n",
        "number = int(input())\n",
        "print([x for x in range(1, number) if number % x == 0])"
      ],
      "execution_count": 33,
      "outputs": [
        {
          "output_type": "stream",
          "text": [
            "Enter a number to know its divisors :\n",
            "24\n",
            "[1, 2, 3, 4, 6, 8, 12]\n"
          ],
          "name": "stdout"
        }
      ]
    },
    {
      "cell_type": "code",
      "metadata": {
        "colab": {
          "base_uri": "https://localhost:8080/"
        },
        "id": "oew1kbA-RfMF",
        "outputId": "cad585d3-6704-4e52-e56a-2dcada7bf5cd"
      },
      "source": [
        "num = int(input(\"Enter a number: \"))\n",
        "list=[]\n",
        "for item in range(1, num):\n",
        "  if num % item == 0:\n",
        "    list.append(item)\n",
        "print(list)"
      ],
      "execution_count": 35,
      "outputs": [
        {
          "output_type": "stream",
          "text": [
            "Enter a number: 24\n",
            "[1, 2, 3, 4, 6, 8, 12]\n"
          ],
          "name": "stdout"
        }
      ]
    },
    {
      "cell_type": "code",
      "metadata": {
        "colab": {
          "base_uri": "https://localhost:8080/"
        },
        "id": "E7BlrvJzTcr2",
        "outputId": "2d1937e5-7571-4ee4-cded-aa9d110acaef"
      },
      "source": [
        "num = int(input(\"Enter the number: \"))\n",
        "list = []\n",
        "for item in range(1,number):\n",
        "  if num % item == 0:\n",
        "    list.append(item)\n",
        "print(list)\n"
      ],
      "execution_count": 37,
      "outputs": [
        {
          "output_type": "stream",
          "text": [
            "Enter the number: 24\n",
            "[1, 2, 3, 4, 6, 8, 12]\n"
          ],
          "name": "stdout"
        }
      ]
    },
    {
      "cell_type": "code",
      "metadata": {
        "colab": {
          "base_uri": "https://localhost:8080/"
        },
        "id": "-6XoNlenUBWK",
        "outputId": "7b4554eb-e81e-4f5c-8e6e-bf8344b2ad94"
      },
      "source": [
        "a = [1,2,1,3,4,1,2,5,6,7]\n",
        "b = [1,2,4,6,7,2,3]\n",
        "result = []\n",
        "[(result.append(i)) for i in a if i in b and i not in result]\n",
        "\n",
        "print(result)"
      ],
      "execution_count": 44,
      "outputs": [
        {
          "output_type": "stream",
          "text": [
            "[1, 2, 3, 4, 6, 7]\n"
          ],
          "name": "stdout"
        }
      ]
    },
    {
      "cell_type": "code",
      "metadata": {
        "colab": {
          "base_uri": "https://localhost:8080/"
        },
        "id": "h3OiFze9ZcXY",
        "outputId": "40bb4283-ed88-4977-deb7-5b0fef886655"
      },
      "source": [
        "a = [1,2,1,3,4,5,6]\n",
        "b = [2,3,0]\n",
        "c =[]\n",
        "for item in a and b:\n",
        "  if item in a and b:\n",
        "    c.append(item)\n",
        "print(c)"
      ],
      "execution_count": 53,
      "outputs": [
        {
          "output_type": "stream",
          "text": [
            "[2, 3]\n"
          ],
          "name": "stdout"
        }
      ]
    },
    {
      "cell_type": "code",
      "metadata": {
        "colab": {
          "base_uri": "https://localhost:8080/"
        },
        "id": "FU6NmO4wa8ho",
        "outputId": "1becfe60-2349-4635-a3e2-6f9492b33d51"
      },
      "source": [
        "a = [11,13,31,42,51,13]\n",
        "a[3]\n",
        "a[1:4]\n",
        "a[4:]\n",
        "a[-1]"
      ],
      "execution_count": 59,
      "outputs": [
        {
          "output_type": "execute_result",
          "data": {
            "text/plain": [
              "13"
            ]
          },
          "metadata": {
            "tags": []
          },
          "execution_count": 59
        }
      ]
    },
    {
      "cell_type": "code",
      "metadata": {
        "colab": {
          "base_uri": "https://localhost:8080/"
        },
        "id": "2YxK8wqLboVS",
        "outputId": "7cfa91d6-604d-4920-c06b-c1b98fe13453"
      },
      "source": [
        "wrd=input(\"Please enter a word\")\n",
        "wrd=str(wrd)\n",
        "rvs=wrd[::-1]\n",
        "print(rvs)\n",
        "if wrd == rvs:\n",
        "    print(\"This word is a palindrome\")\n",
        "else:\n",
        "      print(\"This word is not a palindrome\")"
      ],
      "execution_count": 64,
      "outputs": [
        {
          "output_type": "stream",
          "text": [
            "Please enter a wordword\n",
            "drow\n",
            "This word is not a palindrome\n"
          ],
          "name": "stdout"
        }
      ]
    },
    {
      "cell_type": "code",
      "metadata": {
        "colab": {
          "base_uri": "https://localhost:8080/"
        },
        "id": "fP8g48krbq_l",
        "outputId": "62423f84-0b62-4e81-c367-fdf08a57844d"
      },
      "source": [
        "word = str(input(\" Enter the word: \"))\n",
        "\n",
        "def my_function(reverse = word[::-1]):\n",
        "  if word == reverse:\n",
        "    print(\"This word is palindrome\")\n",
        "  else:\n",
        "    print(\" This not palindrome word\")"
      ],
      "execution_count": 83,
      "outputs": [
        {
          "output_type": "stream",
          "text": [
            " Enter the word: kill\n"
          ],
          "name": "stdout"
        }
      ]
    },
    {
      "cell_type": "code",
      "metadata": {
        "colab": {
          "base_uri": "https://localhost:8080/"
        },
        "id": "SuOrx7r2gKum",
        "outputId": "22e3b46a-0c55-46c3-ddaa-2b8f29199585"
      },
      "source": [
        "a = [1, 4, 9, 16, 25, 36, 49, 64, 81, 100]\n",
        "b =[item for item in a if item % 2 == 0]\n",
        "print(b)\n"
      ],
      "execution_count": 92,
      "outputs": [
        {
          "output_type": "stream",
          "text": [
            "[4, 16, 36, 64, 100]\n"
          ],
          "name": "stdout"
        }
      ]
    },
    {
      "cell_type": "code",
      "metadata": {
        "colab": {
          "base_uri": "https://localhost:8080/"
        },
        "id": "5oqH1y_tiAUf",
        "outputId": "af660b9e-8f37-4856-eabf-f2ee04a960ad"
      },
      "source": [
        "user1_answer = input(\" do yo want to choose rock, paper or scissors?\" )\n",
        "user2_answer = input(\" do you want to choose rock, paper or scissors?\" )\n",
        "\n",
        "def compare(u1, u2):\n",
        "    if u1 == u2:\n",
        "        return(\"It's a tie!\")\n",
        "    elif u1 == 'rock':\n",
        "        if u2 == 'scissors':\n",
        "            return(\"Rock wins!\")\n",
        "        else:\n",
        "            return(\"Paper wins!\")\n",
        "    elif u1 == 'scissors':\n",
        "        if u2 == 'paper':\n",
        "            return(\"Scissors win!\")\n",
        "        else:\n",
        "            return(\"Rock wins!\")\n",
        "    elif u1 == 'paper':\n",
        "        if u2 == 'rock':\n",
        "            return(\"Paper wins!\")\n",
        "        else:\n",
        "            return(\"Scissors win!\")\n",
        "    else:\n",
        "        return(\"Invalid input! You have not entered rock, paper or scissors, try again.\")\n",
        "        sys.exit()\n",
        "\n",
        "print(compare(user1_answer, user2_answer))\n",
        "\n"
      ],
      "execution_count": 106,
      "outputs": [
        {
          "output_type": "stream",
          "text": [
            " do yo want to choose rock, paper or scissors?rock\n",
            " do you want to choose rock, paper or scissors?rock\n",
            "It's a tie!\n"
          ],
          "name": "stdout"
        }
      ]
    }
  ]
}